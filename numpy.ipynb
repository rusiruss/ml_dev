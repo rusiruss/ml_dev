{
 "cells": [
  {
   "cell_type": "markdown",
   "metadata": {},
   "source": [
    "# 1. Basic Array Operations\n",
    "`Question:` \n",
    "`Create a 5x5 NumPy array filled with random integers between 1 and 50. Find the maximum, minimum, and mean of the array.`"
   ]
  },
  {
   "cell_type": "code",
   "execution_count": 6,
   "metadata": {},
   "outputs": [
    {
     "name": "stdout",
     "output_type": "stream",
     "text": [
      "[[21 22 12 47 24]\n",
      " [47 36  2 49  2]\n",
      " [13 21 14 38 38]\n",
      " [31 19 41 33  6]\n",
      " [13 36  3  6 49]]\n",
      "max: 49, min: 2, mean: 24.92\n"
     ]
    }
   ],
   "source": [
    "import numpy as np\n",
    "#generate the array\n",
    "arr = np.random.randint(1,55,(5,5)) \n",
    "#generate a 5x5 array with random numbers between 1 and 55\n",
    "#randint means random integers\n",
    "\n",
    "#find the max\n",
    "max = np.max(arr)\n",
    "min = np.min(arr)\n",
    "mean = np.mean(arr)\n",
    "\n",
    "print(arr)\n",
    "print(f\"max: {max}, min: {min}, mean: {mean}\")\n"
   ]
  },
  {
   "cell_type": "markdown",
   "metadata": {},
   "source": [
    "# 1. Basic Array Operations\n",
    "`Question:` \n",
    "`Create a 5x5 NumPy array filled with random integers between 1 and 50. Find the maximum, minimum, and mean of the array.`"
   ]
  }
 ],
 "metadata": {
  "kernelspec": {
   "display_name": "test",
   "language": "python",
   "name": "python3"
  },
  "language_info": {
   "codemirror_mode": {
    "name": "ipython",
    "version": 3
   },
   "file_extension": ".py",
   "mimetype": "text/x-python",
   "name": "python",
   "nbconvert_exporter": "python",
   "pygments_lexer": "ipython3",
   "version": "3.12.4"
  }
 },
 "nbformat": 4,
 "nbformat_minor": 2
}
